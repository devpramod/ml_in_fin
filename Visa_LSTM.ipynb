{
 "cells": [
  {
   "cell_type": "markdown",
   "metadata": {},
   "source": [
    "## LONG SHORT TERM MEMORY FOR Visa STOCK"
   ]
  },
  {
   "cell_type": "code",
   "execution_count": 1,
   "metadata": {},
   "outputs": [],
   "source": [
    "# Importing all the required packages and libraries\n",
    "\n",
    "import math\n",
    "from math import sqrt\n",
    "import pandas_datareader as web\n",
    "import numpy as np\n",
    "import pandas as pd\n",
    "from sklearn.preprocessing import MinMaxScaler\n",
    "from keras.models import Sequential\n",
    "from keras.layers import Dense, LSTM\n",
    "import matplotlib.pyplot as plt\n",
    "from sklearn.metrics import mean_squared_error, r2_score\n",
    "from keras.layers import Dense, Activation\n",
    "\n",
    "import sys\n",
    "import warnings\n",
    "\n",
    "if not sys.warnoptions:\n",
    "    warnings.simplefilter(\"ignore\")"
   ]
  },
  {
   "cell_type": "code",
   "execution_count": 2,
   "metadata": {},
   "outputs": [
    {
     "data": {
      "text/html": [
       "<div>\n",
       "<style scoped>\n",
       "    .dataframe tbody tr th:only-of-type {\n",
       "        vertical-align: middle;\n",
       "    }\n",
       "\n",
       "    .dataframe tbody tr th {\n",
       "        vertical-align: top;\n",
       "    }\n",
       "\n",
       "    .dataframe thead th {\n",
       "        text-align: right;\n",
       "    }\n",
       "</style>\n",
       "<table border=\"1\" class=\"dataframe\">\n",
       "  <thead>\n",
       "    <tr style=\"text-align: right;\">\n",
       "      <th></th>\n",
       "      <th>High</th>\n",
       "      <th>Low</th>\n",
       "      <th>Open</th>\n",
       "      <th>Close</th>\n",
       "      <th>Volume</th>\n",
       "      <th>Adj Close</th>\n",
       "    </tr>\n",
       "    <tr>\n",
       "      <th>Date</th>\n",
       "      <th></th>\n",
       "      <th></th>\n",
       "      <th></th>\n",
       "      <th></th>\n",
       "      <th></th>\n",
       "      <th></th>\n",
       "    </tr>\n",
       "  </thead>\n",
       "  <tbody>\n",
       "    <tr>\n",
       "      <th>2014-01-02</th>\n",
       "      <td>55.507500</td>\n",
       "      <td>54.875000</td>\n",
       "      <td>55.384998</td>\n",
       "      <td>55.252499</td>\n",
       "      <td>10654000.0</td>\n",
       "      <td>52.239883</td>\n",
       "    </tr>\n",
       "    <tr>\n",
       "      <th>2014-01-03</th>\n",
       "      <td>55.622501</td>\n",
       "      <td>55.057499</td>\n",
       "      <td>55.437500</td>\n",
       "      <td>55.290001</td>\n",
       "      <td>7809600.0</td>\n",
       "      <td>52.275349</td>\n",
       "    </tr>\n",
       "    <tr>\n",
       "      <th>2014-01-06</th>\n",
       "      <td>55.577499</td>\n",
       "      <td>54.897499</td>\n",
       "      <td>55.294998</td>\n",
       "      <td>54.957500</td>\n",
       "      <td>8577600.0</td>\n",
       "      <td>51.960972</td>\n",
       "    </tr>\n",
       "    <tr>\n",
       "      <th>2014-01-07</th>\n",
       "      <td>55.527500</td>\n",
       "      <td>55.115002</td>\n",
       "      <td>55.187500</td>\n",
       "      <td>55.377499</td>\n",
       "      <td>8178000.0</td>\n",
       "      <td>52.358078</td>\n",
       "    </tr>\n",
       "    <tr>\n",
       "      <th>2014-01-08</th>\n",
       "      <td>55.750000</td>\n",
       "      <td>55.160000</td>\n",
       "      <td>55.355000</td>\n",
       "      <td>55.555000</td>\n",
       "      <td>8487200.0</td>\n",
       "      <td>52.525890</td>\n",
       "    </tr>\n",
       "    <tr>\n",
       "      <th>2014-01-09</th>\n",
       "      <td>56.130001</td>\n",
       "      <td>55.415001</td>\n",
       "      <td>55.887501</td>\n",
       "      <td>55.477501</td>\n",
       "      <td>8386400.0</td>\n",
       "      <td>52.452625</td>\n",
       "    </tr>\n",
       "    <tr>\n",
       "      <th>2014-01-10</th>\n",
       "      <td>55.685001</td>\n",
       "      <td>55.002499</td>\n",
       "      <td>55.459999</td>\n",
       "      <td>55.282501</td>\n",
       "      <td>6429600.0</td>\n",
       "      <td>52.268246</td>\n",
       "    </tr>\n",
       "    <tr>\n",
       "      <th>2014-01-13</th>\n",
       "      <td>56.047501</td>\n",
       "      <td>54.652500</td>\n",
       "      <td>55.505001</td>\n",
       "      <td>54.724998</td>\n",
       "      <td>13554400.0</td>\n",
       "      <td>51.741150</td>\n",
       "    </tr>\n",
       "    <tr>\n",
       "      <th>2014-01-14</th>\n",
       "      <td>55.662498</td>\n",
       "      <td>54.582500</td>\n",
       "      <td>54.685001</td>\n",
       "      <td>55.662498</td>\n",
       "      <td>10851600.0</td>\n",
       "      <td>52.627541</td>\n",
       "    </tr>\n",
       "    <tr>\n",
       "      <th>2014-01-15</th>\n",
       "      <td>56.224998</td>\n",
       "      <td>55.457500</td>\n",
       "      <td>55.712502</td>\n",
       "      <td>55.939999</td>\n",
       "      <td>11288000.0</td>\n",
       "      <td>52.889912</td>\n",
       "    </tr>\n",
       "  </tbody>\n",
       "</table>\n",
       "</div>"
      ],
      "text/plain": [
       "                 High        Low       Open      Close      Volume  Adj Close\n",
       "Date                                                                         \n",
       "2014-01-02  55.507500  54.875000  55.384998  55.252499  10654000.0  52.239883\n",
       "2014-01-03  55.622501  55.057499  55.437500  55.290001   7809600.0  52.275349\n",
       "2014-01-06  55.577499  54.897499  55.294998  54.957500   8577600.0  51.960972\n",
       "2014-01-07  55.527500  55.115002  55.187500  55.377499   8178000.0  52.358078\n",
       "2014-01-08  55.750000  55.160000  55.355000  55.555000   8487200.0  52.525890\n",
       "2014-01-09  56.130001  55.415001  55.887501  55.477501   8386400.0  52.452625\n",
       "2014-01-10  55.685001  55.002499  55.459999  55.282501   6429600.0  52.268246\n",
       "2014-01-13  56.047501  54.652500  55.505001  54.724998  13554400.0  51.741150\n",
       "2014-01-14  55.662498  54.582500  54.685001  55.662498  10851600.0  52.627541\n",
       "2014-01-15  56.224998  55.457500  55.712502  55.939999  11288000.0  52.889912"
      ]
     },
     "execution_count": 2,
     "metadata": {},
     "output_type": "execute_result"
    }
   ],
   "source": [
    "#Fetching data for Visa Stock for 5 years\n",
    "\n",
    "df = web.DataReader('V', data_source='yahoo', start='2014-01-01', end='2020-12-31') \n",
    "df.head(10)"
   ]
  },
  {
   "cell_type": "code",
   "execution_count": 3,
   "metadata": {},
   "outputs": [
    {
     "name": "stdout",
     "output_type": "stream",
     "text": [
      "(1763, 6)\n"
     ]
    }
   ],
   "source": [
    "print(df.shape)"
   ]
  },
  {
   "cell_type": "code",
   "execution_count": 4,
   "metadata": {},
   "outputs": [
    {
     "data": {
      "image/png": "[encoded data removed]",
      "text/plain": [
       "<Figure size 1152x576 with 1 Axes>"
      ]
     },
     "metadata": {
      "needs_background": "light"
     },
     "output_type": "display_data"
    }
   ],
   "source": [
    "# Visualize the closing price history for Visa stock\n",
    "\n",
    "plt.figure(figsize=(16,8))\n",
    "plt.title('Close Price History[Visa]')\n",
    "plt.plot(df['Close'], color='b')\n",
    "plt.xlabel('Date',fontsize=18)\n",
    "plt.ylabel('Close Price (USD)',fontsize=18)\n",
    "plt.show()"
   ]
  },
  {
   "cell_type": "code",
   "execution_count": 5,
   "metadata": {},
   "outputs": [],
   "source": [
    "# Create a new dataframe with only the 'Close' column.\n",
    "data = df.filter(['Close'])\n",
    "\n",
    "# Converting the dataframe to a numpy array.\n",
    "dataset = data.values\n",
    "\n",
    "# Compute the number of rows to train the model on.\n",
    "\n",
    "training_data_len = math.ceil( len(dataset) *.8)"
   ]
  },
  {
   "cell_type": "code",
   "execution_count": 6,
   "metadata": {},
   "outputs": [],
   "source": [
    "# Min-Max Normalization.\n",
    "scaler = MinMaxScaler(feature_range=(0, 1)) \n",
    "scaled_data = scaler.fit_transform(dataset)"
   ]
  },
  {
   "cell_type": "code",
   "execution_count": 7,
   "metadata": {},
   "outputs": [],
   "source": [
    "# Create the scaled training dataset.\n",
    "train_data = scaled_data[0:training_data_len, :]\n",
    "\n",
    "# Split the data into X_train and y_train data sets\n",
    "X_train=[]\n",
    "y_train = []\n",
    "\n",
    "for i in range(60,len(train_data)):\n",
    "    X_train.append(train_data[i-60:i,0])\n",
    "    y_train.append(train_data[i,0])"
   ]
  },
  {
   "cell_type": "code",
   "execution_count": 8,
   "metadata": {},
   "outputs": [],
   "source": [
    "# Convert x_train and y_train to numpy arrays.\n",
    "X_train, y_train = np.array(X_train), np.array(y_train)"
   ]
  },
  {
   "cell_type": "code",
   "execution_count": 9,
   "metadata": {},
   "outputs": [],
   "source": [
    "# Reshape the data into the shape accepted by the LSTM.\n",
    "X_train = np.reshape(X_train, (X_train.shape[0],X_train.shape[1],1))"
   ]
  },
  {
   "cell_type": "code",
   "execution_count": 10,
   "metadata": {},
   "outputs": [
    {
     "name": "stdout",
     "output_type": "stream",
     "text": [
      "Model: \"sequential\"\n",
      "_________________________________________________________________\n",
      " Layer (type)                Output Shape              Param #   \n",
      "=================================================================\n",
      " lstm (LSTM)                 (None, 60, 50)            10400     \n",
      "                                                                 \n",
      " lstm_1 (LSTM)               (None, 25)                7600      \n",
      "                                                                 \n",
      " activation (Activation)     (None, 25)                0         \n",
      "                                                                 \n",
      " dense (Dense)               (None, 1)                 26        \n",
      "                                                                 \n",
      "=================================================================\n",
      "Total params: 18,026\n",
      "Trainable params: 18,026\n",
      "Non-trainable params: 0\n",
      "_________________________________________________________________\n"
     ]
    }
   ],
   "source": [
    "# Build the LSTM network model.\n",
    "model = Sequential()\n",
    "model.add(LSTM(units=50, return_sequences=True, input_shape=(X_train.shape[1],1)))\n",
    "model.add(LSTM(units=25, return_sequences=False))\n",
    "model.add(Activation('linear'))\n",
    "model.add(Dense(units=1))\n",
    "model.summary()"
   ]
  },
  {
   "cell_type": "code",
   "execution_count": 11,
   "metadata": {},
   "outputs": [],
   "source": [
    "# Compile the model.\n",
    "model.compile(optimizer='adam', loss='mean_squared_error')"
   ]
  },
  {
   "cell_type": "code",
   "execution_count": 12,
   "metadata": {},
   "outputs": [
    {
     "name": "stdout",
     "output_type": "stream",
     "text": [
      "Epoch 1/10\n",
      "1351/1351 [==============================] - 10s 5ms/step - loss: 0.0011\n",
      "Epoch 2/10\n",
      "1351/1351 [==============================] - 8s 6ms/step - loss: 3.4005e-04\n",
      "Epoch 3/10\n",
      "1351/1351 [==============================] - 8s 6ms/step - loss: 2.7083e-04\n",
      "Epoch 4/10\n",
      "1351/1351 [==============================] - 8s 6ms/step - loss: 2.7315e-04\n",
      "Epoch 5/10\n",
      "1351/1351 [==============================] - 9s 6ms/step - loss: 2.5168e-04\n",
      "Epoch 6/10\n",
      "1351/1351 [==============================] - 9s 7ms/step - loss: 1.5033e-04\n",
      "Epoch 7/10\n",
      "1351/1351 [==============================] - 9s 6ms/step - loss: 1.6437e-04\n",
      "Epoch 8/10\n",
      "1351/1351 [==============================] - 7s 5ms/step - loss: 1.5098e-04\n",
      "Epoch 9/10\n",
      "1351/1351 [==============================] - 7s 5ms/step - loss: 1.3765e-04\n",
      "Epoch 10/10\n",
      "1351/1351 [==============================] - 7s 5ms/step - loss: 1.5475e-04\n"
     ]
    },
    {
     "data": {
      "text/plain": [
       "<keras.callbacks.History at 0x7f6088381250>"
      ]
     },
     "execution_count": 12,
     "metadata": {},
     "output_type": "execute_result"
    }
   ],
   "source": [
    "# Train the model.\n",
    "model.fit(X_train, y_train, batch_size=1, epochs=10)"
   ]
  },
  {
   "cell_type": "code",
   "execution_count": 13,
   "metadata": {},
   "outputs": [],
   "source": [
    "# Test dataset.\n",
    "test_data = scaled_data[training_data_len-60:, :]\n",
    "\n",
    "# Create the x_test and y_test datasets.\n",
    "X_test = []\n",
    "y_test =  dataset[training_data_len:, :]\n",
    "for i in range(60,len(test_data)):\n",
    "    X_test.append(test_data[i-60:i, 0])"
   ]
  },
  {
   "cell_type": "code",
   "execution_count": 14,
   "metadata": {},
   "outputs": [],
   "source": [
    "# Convert x_test to a numpy array.\n",
    "X_test = np.array(X_test)"
   ]
  },
  {
   "cell_type": "code",
   "execution_count": 15,
   "metadata": {},
   "outputs": [],
   "source": [
    "# Reshape the data into the shape accepted by the LSTM.\n",
    "X_test = np.reshape(X_test, (X_test.shape[0], X_test.shape[1], 1))"
   ]
  },
  {
   "cell_type": "code",
   "execution_count": 16,
   "metadata": {},
   "outputs": [],
   "source": [
    "# Getting the models predicted price values.\n",
    "predictions = model.predict(X_test)\n",
    "predictions = scaler.inverse_transform(predictions) #Undo scaling"
   ]
  },
  {
   "cell_type": "code",
   "execution_count": 17,
   "metadata": {},
   "outputs": [],
   "source": [
    "# Calculate/Get the value of RMSE.\n",
    "rmse = np.sqrt(np.mean(((predictions- y_test)**2)))\n",
    "mse = mean_squared_error(predictions,y_test)\n",
    "rmse_new = sqrt(mse)\n",
    "r = r2_score(predictions,y_test)"
   ]
  },
  {
   "cell_type": "code",
   "execution_count": 18,
   "metadata": {},
   "outputs": [
    {
     "name": "stdout",
     "output_type": "stream",
     "text": [
      "RMSE = {} 4.348649924507424\n",
      "R-Squared Score = {} 0.9058916795180617\n"
     ]
    }
   ],
   "source": [
    "print('RMSE = {}',rmse)\n",
    "print('R-Squared Score = {}',r)"
   ]
  },
  {
   "cell_type": "code",
   "execution_count": 19,
   "metadata": {},
   "outputs": [],
   "source": [
    "# Plot/Create the data for the graph.\n",
    "train = data[:training_data_len]\n",
    "valid = data[training_data_len:]\n",
    "valid['Predictions'] = predictions"
   ]
  },
  {
   "cell_type": "code",
   "execution_count": 20,
   "metadata": {},
   "outputs": [
    {
     "name": "stdout",
     "output_type": "stream",
     "text": [
      "RMSE = {} 4.348649924507424\n",
      "R-Squared Score = {} 0.9058916795180617\n"
     ]
    },
    {
     "data": {
      "image/png": "[encoded data removed]",
      "text/plain": [
       "<Figure size 1152x576 with 1 Axes>"
      ]
     },
     "metadata": {
      "needs_background": "light"
     },
     "output_type": "display_data"
    }
   ],
   "source": [
    "# Visualize the data.\n",
    "print('RMSE = {}',rmse)\n",
    "print('R-Squared Score = {}',r)\n",
    "plt.figure(figsize=(16,8))\n",
    "plt.title('Model')\n",
    "plt.xlabel('Date', fontsize=18)\n",
    "plt.ylabel('Close Price (USD)', fontsize=18)\n",
    "plt.plot(train['Close'])\n",
    "plt.plot(valid[['Close', 'Predictions']])\n",
    "plt.legend(['Train', 'Validation', 'Predictions'], loc='lower right')\n",
    "plt.show()"
   ]
  },
  {
   "cell_type": "code",
   "execution_count": 21,
   "metadata": {},
   "outputs": [
    {
     "data": {
      "text/html": [
       "<div>\n",
       "<style scoped>\n",
       "    .dataframe tbody tr th:only-of-type {\n",
       "        vertical-align: middle;\n",
       "    }\n",
       "\n",
       "    .dataframe tbody tr th {\n",
       "        vertical-align: top;\n",
       "    }\n",
       "\n",
       "    .dataframe thead th {\n",
       "        text-align: right;\n",
       "    }\n",
       "</style>\n",
       "<table border=\"1\" class=\"dataframe\">\n",
       "  <thead>\n",
       "    <tr style=\"text-align: right;\">\n",
       "      <th></th>\n",
       "      <th>Close</th>\n",
       "      <th>Predictions</th>\n",
       "    </tr>\n",
       "    <tr>\n",
       "      <th>Date</th>\n",
       "      <th></th>\n",
       "      <th></th>\n",
       "    </tr>\n",
       "  </thead>\n",
       "  <tbody>\n",
       "    <tr>\n",
       "      <th>2019-08-12</th>\n",
       "      <td>176.339996</td>\n",
       "      <td>178.130005</td>\n",
       "    </tr>\n",
       "    <tr>\n",
       "      <th>2019-08-13</th>\n",
       "      <td>178.610001</td>\n",
       "      <td>175.646805</td>\n",
       "    </tr>\n",
       "    <tr>\n",
       "      <th>2019-08-14</th>\n",
       "      <td>173.509995</td>\n",
       "      <td>178.355316</td>\n",
       "    </tr>\n",
       "    <tr>\n",
       "      <th>2019-08-15</th>\n",
       "      <td>176.270004</td>\n",
       "      <td>172.673340</td>\n",
       "    </tr>\n",
       "    <tr>\n",
       "      <th>2019-08-16</th>\n",
       "      <td>178.229996</td>\n",
       "      <td>176.398605</td>\n",
       "    </tr>\n",
       "    <tr>\n",
       "      <th>...</th>\n",
       "      <td>...</td>\n",
       "      <td>...</td>\n",
       "    </tr>\n",
       "    <tr>\n",
       "      <th>2020-12-24</th>\n",
       "      <td>208.699997</td>\n",
       "      <td>204.256790</td>\n",
       "    </tr>\n",
       "    <tr>\n",
       "      <th>2020-12-28</th>\n",
       "      <td>212.630005</td>\n",
       "      <td>207.825104</td>\n",
       "    </tr>\n",
       "    <tr>\n",
       "      <th>2020-12-29</th>\n",
       "      <td>214.369995</td>\n",
       "      <td>211.031021</td>\n",
       "    </tr>\n",
       "    <tr>\n",
       "      <th>2020-12-30</th>\n",
       "      <td>218.360001</td>\n",
       "      <td>212.006226</td>\n",
       "    </tr>\n",
       "    <tr>\n",
       "      <th>2020-12-31</th>\n",
       "      <td>218.729996</td>\n",
       "      <td>216.120193</td>\n",
       "    </tr>\n",
       "  </tbody>\n",
       "</table>\n",
       "<p>352 rows × 2 columns</p>\n",
       "</div>"
      ],
      "text/plain": [
       "                 Close  Predictions\n",
       "Date                               \n",
       "2019-08-12  176.339996   178.130005\n",
       "2019-08-13  178.610001   175.646805\n",
       "2019-08-14  173.509995   178.355316\n",
       "2019-08-15  176.270004   172.673340\n",
       "2019-08-16  178.229996   176.398605\n",
       "...                ...          ...\n",
       "2020-12-24  208.699997   204.256790\n",
       "2020-12-28  212.630005   207.825104\n",
       "2020-12-29  214.369995   211.031021\n",
       "2020-12-30  218.360001   212.006226\n",
       "2020-12-31  218.729996   216.120193\n",
       "\n",
       "[352 rows x 2 columns]"
      ]
     },
     "execution_count": 21,
     "metadata": {},
     "output_type": "execute_result"
    }
   ],
   "source": [
    "valid"
   ]
  },
  {
   "cell_type": "code",
   "execution_count": null,
   "metadata": {},
   "outputs": [],
   "source": []
  },
  {
   "cell_type": "code",
   "execution_count": null,
   "metadata": {},
   "outputs": [],
   "source": []
  }
 ],
 "metadata": {
  "kernelspec": {
   "display_name": "Python 3",
   "language": "python",
   "name": "python3"
  },
  "language_info": {
   "codemirror_mode": {
    "name": "ipython",
    "version": 3
   },
   "file_extension": ".py",
   "mimetype": "text/x-python",
   "name": "python",
   "nbconvert_exporter": "python",
   "pygments_lexer": "ipython3",
   "version": "3.8.8"
  }
 },
 "nbformat": 4,
 "nbformat_minor": 4
}
